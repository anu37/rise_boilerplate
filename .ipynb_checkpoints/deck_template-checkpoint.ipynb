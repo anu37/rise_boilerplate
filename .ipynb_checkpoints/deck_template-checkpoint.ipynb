{
 "cells": [
  {
   "cell_type": "markdown",
   "id": "f7c23523",
   "metadata": {
    "slideshow": {
     "slide_type": "slide"
    }
   },
   "source": [
    "# Some Random Project"
   ]
  },
  {
   "cell_type": "markdown",
   "id": "fbd1cfad",
   "metadata": {
    "slideshow": {
     "slide_type": "slide"
    }
   },
   "source": [
    "# Application Architecture\n",
    "\n",
    "<br>\n",
    "\n",
    "<img src=\"architecture.png\" width=\"1400\" height=\"800\" align=\"center\"/>"
   ]
  },
  {
   "cell_type": "code",
   "execution_count": 14,
   "id": "cfe9eae4",
   "metadata": {
    "slideshow": {
     "slide_type": "slide"
    }
   },
   "outputs": [],
   "source": [
    "def foo():\n",
    "    print(\"I'm Foo\")\n",
    "\n",
    "def bar():\n",
    "    print(\"I'm Bar\")\n",
    "\n",
    "def hello_world(name):\n",
    "    print(f\"Hi {name}!!!\")"
   ]
  },
  {
   "cell_type": "code",
   "execution_count": 15,
   "id": "c7f2908b",
   "metadata": {
    "slideshow": {
     "slide_type": "fragment"
    }
   },
   "outputs": [
    {
     "name": "stdout",
     "output_type": "stream",
     "text": [
      "I'm Foo\n"
     ]
    }
   ],
   "source": [
    "foo()"
   ]
  },
  {
   "cell_type": "code",
   "execution_count": 16,
   "id": "747f58ba",
   "metadata": {
    "slideshow": {
     "slide_type": "fragment"
    }
   },
   "outputs": [
    {
     "name": "stdout",
     "output_type": "stream",
     "text": [
      "I'm Bar\n"
     ]
    }
   ],
   "source": [
    "bar()"
   ]
  },
  {
   "cell_type": "code",
   "execution_count": 17,
   "id": "27ca8e13",
   "metadata": {
    "slideshow": {
     "slide_type": "fragment"
    }
   },
   "outputs": [
    {
     "name": "stdout",
     "output_type": "stream",
     "text": [
      "Hi Brazil!!!\n"
     ]
    }
   ],
   "source": [
    "hello_world(\"Brazil\")"
   ]
  },
  {
   "cell_type": "code",
   "execution_count": 18,
   "id": "ebff7431",
   "metadata": {
    "slideshow": {
     "slide_type": "fragment"
    }
   },
   "outputs": [
    {
     "name": "stdout",
     "output_type": "stream",
     "text": [
      "Hi Brazil!!!\n"
     ]
    }
   ],
   "source": [
    "hello_world(\"Brazil\")"
   ]
  },
  {
   "cell_type": "markdown",
   "id": "d0dc8d40",
   "metadata": {
    "slideshow": {
     "slide_type": "slide"
    }
   },
   "source": [
    "### Key features: MVP 1\n",
    "\n",
    "* automation\n",
    "* blah\n",
    "* bllaah\n",
    "* some more blah and blah"
   ]
  }
 ],
 "metadata": {
  "celltoolbar": "Slideshow",
  "kernelspec": {
   "display_name": "Python 3 (ipykernel)",
   "language": "python",
   "name": "python3"
  },
  "language_info": {
   "codemirror_mode": {
    "name": "ipython",
    "version": 3
   },
   "file_extension": ".py",
   "mimetype": "text/x-python",
   "name": "python",
   "nbconvert_exporter": "python",
   "pygments_lexer": "ipython3",
   "version": "3.8.10"
  }
 },
 "nbformat": 4,
 "nbformat_minor": 5
}

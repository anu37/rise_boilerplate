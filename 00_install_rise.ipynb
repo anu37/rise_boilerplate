{
 "cells": [
  {
   "cell_type": "markdown",
   "id": "88928149",
   "metadata": {},
   "source": [
    "### Install RISE\n",
    "\n",
    "```\n",
    "conda create --name rise python=3.8\n",
    "conda activate rise\n",
    "pip install jupyter RISE\n",
    "conda install -c conda-forge jupyter_contrib_nbextensions\n",
    "jupyter contrib nbextension install --user\n",
    "conda install -c conda-forge jupyter_nbextensions_configurator\n",
    "```\n",
    "\n",
    "### Enable Jupyter Notebook extension for RISE\n",
    "\n",
    "\n",
    "![Jupyter Notebook Extension RISE](extension.png)\n",
    "\n",
    "\n",
    "### Run Notebook \n",
    "\n",
    "![Modified theme](theme_overview.png)\n",
    "\n",
    "* Run `01_rise_theme_install.ipynb`\n",
    "* Restart notebook and verify theme has been applied\n",
    "\n",
    "\n",
    "### How to use RISE\n",
    "\n",
    "![Activate slide type](activate_slider_type.png)\n",
    "![Select slide type](select_slider_type.png)\n",
    "\n",
    "\n",
    "### Reference:\n",
    "\n",
    "* https://www.youtube.com/watch?v=dAxWpE7_v1A\n",
    "* https://github.com/firasm/altair_talk"
   ]
  },
  {
   "cell_type": "code",
   "execution_count": null,
   "id": "627e1396",
   "metadata": {},
   "outputs": [],
   "source": []
  }
 ],
 "metadata": {
  "kernelspec": {
   "display_name": "Python 3 (ipykernel)",
   "language": "python",
   "name": "python3"
  },
  "language_info": {
   "codemirror_mode": {
    "name": "ipython",
    "version": 3
   },
   "file_extension": ".py",
   "mimetype": "text/x-python",
   "name": "python",
   "nbconvert_exporter": "python",
   "pygments_lexer": "ipython3",
   "version": "3.8.10"
  }
 },
 "nbformat": 4,
 "nbformat_minor": 5
}
